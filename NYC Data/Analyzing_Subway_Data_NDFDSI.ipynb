{
 "cells": [
  {
   "cell_type": "markdown",
   "metadata": {},
   "source": [
    "# Subway Data Analysis\n",
    "\n",
    "## Introduction\n",
    "\n",
    "The NYC public transportantion system - Metro Transit Authority - provides data for download via csv files. Part of the information available are data from the subway turnstiles, containing weekly logs for cumulative entries and exits by turnstile and by subway station during a provided timeframe.\n",
    "\n",
    "\n",
    "For this project, we will only use the information available at: http://web.mta.info/developers/turnstile.html.\n",
    "\n",
    "\n"
   ]
  },
  {
   "cell_type": "markdown",
   "metadata": {},
   "source": [
    "# About this project\n",
    "\n",
    "For this project, you will apply the knowledge acquired in the first month of this course. We will practice basic data acquisition and data cleaning tasks to find out fundamental stuff about the data using what we learned in the Statistics course. \n",
    "\n",
    "The goal of this project is to explore the relationship between data from the NYC Subway turnstiles and the city weather. For this, besides data from the subway, we will also need data from the weather in NYC. \n",
    "\n",
    "Here are the main points that will be considered in this work:\n",
    "\n",
    "- Gathering data from the Internet\n",
    "- Using Statistics for Data Analysis\n",
    "- Data handling and simple graphics creation with `Pandas`\n",
    "\n",
    "*How to find help*: We suggest that you try the following channels, in the following order:\n",
    "\n",
    "| Type of Question\\Channels    \t| Google \t| Forum \t| Slack \t| Email \t|\n",
    "|-------------------------------\t|--------\t|-------\t|-------\t|-------\t|\n",
    "| Pandas and Python Programming \t| 1      \t| 2     \t| 3     \t|       \t|\n",
    "| Projects Requiriments         \t|        \t| 1     \t| 2     \t| 3     \t|\n",
    "| Projects Specific Parts       \t|        \t| 1     \t| 2     \t| 3     \t|\n",
    "\n",
    "Here is the address for each of these channels:\n",
    "\n",
    "- Forum: https://discussions.udacity.com/c/ndfdsi-project\n",
    "- Slack: [Big Data Foundations](https://goo.gl/4K7LWK)\n",
    "- Email: india@udacity.com\n",
    "\n",
    "**The student is expected to submit this report including:**\n",
    "\n",
    "- All TODO's completed, as they are crucial for the code to run accordingly\n",
    "- The ipynb file, exported as html\n",
    "\n",
    "To submit this project, go to the [classroom](https://coco.udacity.com/nanodegrees/nd100-inbig/locale/en-us/versions/1.0.0/parts/469348/modules/469702/lessons/469703/project), and submit your zipped `.ipynb` and html."
   ]
  },
  {
   "cell_type": "markdown",
   "metadata": {},
   "source": [
    "# Reminders\n",
    "\n",
    "Before we start, there are a few things you must have in mind while using iPython notebooks:\n",
    "\n",
    "- Remember you can see, in the left side of a code cell, when was the last time it ran, if there is a number inside the keys.\n",
    "- When starting a new session in the notebook, please make sure to run all cells up to the point where you last left it. Even if the output can still be viewed from the moment you ran your cells in the previews session, the kernel starts in a new state, so you will need to reload all data, etc. in a new session.\n",
    "- The previous point is useful to have in mind if your answers do not match what is expected from the quizzes in the classroom. Try reloading the data and running all processing steps, one by one, to make sure you're working with the same variables and data from each step of the quizz."
   ]
  },
  {
   "cell_type": "markdown",
   "metadata": {},
   "source": [
    "## Session 1 - Data Gathering\n",
    "\n",
    "### *Exercise 1.1*\n",
    "\n",
    "Let's do it!! Now it's your turn to gather data. Please write bellow a Python code to access the link http://web.mta.info/developers/turnstile.html and download all files from June 2017. The file must be named turnstile_100617.txt, where 10/06/17 is the file's date.\n",
    "\n",
    "Please see below a few commands that might help you:\n",
    "\n",
    "Use the **urllib** library to open and redeem a webpage. Use the command below, where **url** is the webpage path to the following file:\n",
    "\n",
    "```python\n",
    "u = urllib.urlopen(url)\n",
    "html = u.read()\n",
    "```\n",
    "\n",
    "Use the **BeautifulSoup** library to search for the link to the file you want to donwload in the page. Use the command below to create your *soup* object and search for all 'a' tags in the document:\n",
    " \n",
    " \n",
    "```python\n",
    "soup = BeautifulSoup(html, \"html.parser\")\n",
    "links = soup.find_all('a')\n",
    "```\n",
    "\n",
    "A tip to only download the files from June is to check data in the name of the file. For instance, to donwload the 17/06/2017 file, please see if the link ends with *\"turnstile_170610.txt\"*. If you forget to do this, you will download all files from that page. In order to do this, you can use the following command:\n",
    "\n",
    "```python\n",
    "if '1706' in link.get('href'):\n",
    "```\n",
    "\n",
    "Our final tip is to use the command bellow to download the txt file:\n",
    "\n",
    "```python\n",
    "urllib.urlretrieve(link_do_arquivo, filename)\n",
    "```\n",
    "\n",
    "Please remember - you first have to load all packages and functions that will be used in your analysys."
   ]
  },
  {
   "cell_type": "code",
   "execution_count": 5,
   "metadata": {
    "collapsed": true
   },
   "outputs": [],
   "source": [
    "import urllib\n",
    "from bs4 import BeautifulSoup\n",
    "obj=urllib.urlopen(\"http://web.mta.info/developers/turnstile.html\")\n",
    "html=obj.read()\n",
    "obj1=BeautifulSoup(html, \"html.parser\")\n",
    "links=obj1.find_all('a')\n",
    "filename=[]\n",
    "for j in range(len(links)):\n",
    "    if \"1706\" in str(links[j].get('href')):\n",
    "        path=links[j].get('href').split('/')[-1]\n",
    "        link=\"http://web.mta.info/developers/\"+links[j].get('href')\n",
    "        filename.append(path)\n",
    "        urllib.urlretrieve(link,path)"
   ]
  },
  {
   "cell_type": "markdown",
   "metadata": {},
   "source": [
    "### *Exercise 1.2*\n",
    "\n",
    "Write down a function that takes the list of all names of the files you downloaded in Exercise 1.1 and compile them into one single file. There must be only one header line in the output file. \n",
    "\n",
    "For example, if file_1 has:\n",
    "line 1...\n",
    "line 2...\n",
    "\n",
    "and the other file, file_2, has:\n",
    "line 3...\n",
    "line 4...\n",
    "line 5...\n",
    "\n",
    "We must combine file_1 and file_2 into one master file, as follows:\n",
    "\n",
    "'C/A, UNIT, SCP, DATEn, TIMEn, DESCn, ENTRIESn, EXITSn'\n",
    "line 1...\n",
    "line 2...\n",
    "line 3...\n",
    "line 4...\n",
    "line 5...\n"
   ]
  },
  {
   "cell_type": "code",
   "execution_count": 3,
   "metadata": {},
   "outputs": [],
   "source": [
    "def create_master_turnstile_file(filenames, output_file):\n",
    "    with open(output_file, 'w') as master_file:\n",
    "        master_file.write('C/A,UNIT,SCP,STATION, LINENAME, DIVISION, DATEn,TIMEn,DESCn,ENTRIESn,EXITSn\\n')\n",
    "        for fi in filenames:\n",
    "            p=open(fi,\"r\")\n",
    "            p.readline()\n",
    "            master_file.write(p.read())\n",
    "filename=[\"turnstile_170603.txt\",\"turnstile_170610.txt\",\"turnstile_170617.txt\",\"turnstile_170624.txt\"]\n",
    "create_master_turnstile_file(filename,\"output.txt\")"
   ]
  },
  {
   "cell_type": "markdown",
   "metadata": {},
   "source": [
    "### *Exercise 1.3*\n",
    "\n",
    "For this exercise, you will write a function that reads the master_file created in the previous exercise and load it into a Pandas Dataframe. This function can be filtered, so that the Dataframe only has lines where column \"DESCn\" has the value \"Regular\".\n",
    "\n",
    "For example, if the Pandas Dataframe looks like this:\n",
    "    \n",
    "    ,C/A,UNIT,SCP,DATEn,TIMEn,DESCn,ENTRIESn,EXITSn\n",
    "    0,A002,R051,02-00-00,05-01-11,00:00:00,REGULAR,3144312,1088151\n",
    "    1,A002,R051,02-00-00,05-01-11,04:00:00,DOOR,3144335,1088159\n",
    "    2,A002,R051,02-00-00,05-01-11,08:00:00,REGULAR,3144353,1088177\n",
    "    3,A002,R051,02-00-00,05-01-11,12:00:00,DOOR,3144424,1088231\n",
    "\n",
    "The Dataframe must look like the following, after filtering only the lines where column DESCn has the value REGULAR:\n",
    "\n",
    "    0,A002,R051,02-00-00,05-01-11,00:00:00,REGULAR,3144312,1088151\n",
    "    2,A002,R051,02-00-00,05-01-11,08:00:00,REGULAR,3144353,1088177\n"
   ]
  },
  {
   "cell_type": "code",
   "execution_count": 4,
   "metadata": {
    "collapsed": true
   },
   "outputs": [
    {
     "data": {
      "text/html": [
       "<div>\n",
       "<style scoped>\n",
       "    .dataframe tbody tr th:only-of-type {\n",
       "        vertical-align: middle;\n",
       "    }\n",
       "\n",
       "    .dataframe tbody tr th {\n",
       "        vertical-align: top;\n",
       "    }\n",
       "\n",
       "    .dataframe thead th {\n",
       "        text-align: right;\n",
       "    }\n",
       "</style>\n",
       "<table border=\"1\" class=\"dataframe\">\n",
       "  <thead>\n",
       "    <tr style=\"text-align: right;\">\n",
       "      <th></th>\n",
       "      <th>C/A</th>\n",
       "      <th>UNIT</th>\n",
       "      <th>SCP</th>\n",
       "      <th>STATION</th>\n",
       "      <th>LINENAME</th>\n",
       "      <th>DIVISION</th>\n",
       "      <th>DATEn</th>\n",
       "      <th>TIMEn</th>\n",
       "      <th>DESCn</th>\n",
       "      <th>ENTRIESn</th>\n",
       "      <th>EXITSn</th>\n",
       "    </tr>\n",
       "  </thead>\n",
       "  <tbody>\n",
       "    <tr>\n",
       "      <th>0</th>\n",
       "      <td>A002</td>\n",
       "      <td>R051</td>\n",
       "      <td>02-00-00</td>\n",
       "      <td>59 ST</td>\n",
       "      <td>NQR456W</td>\n",
       "      <td>BMT</td>\n",
       "      <td>05/27/2017</td>\n",
       "      <td>00:00:00</td>\n",
       "      <td>REGULAR</td>\n",
       "      <td>6195217</td>\n",
       "      <td>2098317</td>\n",
       "    </tr>\n",
       "    <tr>\n",
       "      <th>1</th>\n",
       "      <td>A002</td>\n",
       "      <td>R051</td>\n",
       "      <td>02-00-00</td>\n",
       "      <td>59 ST</td>\n",
       "      <td>NQR456W</td>\n",
       "      <td>BMT</td>\n",
       "      <td>05/27/2017</td>\n",
       "      <td>04:00:00</td>\n",
       "      <td>REGULAR</td>\n",
       "      <td>6195240</td>\n",
       "      <td>2098318</td>\n",
       "    </tr>\n",
       "    <tr>\n",
       "      <th>2</th>\n",
       "      <td>A002</td>\n",
       "      <td>R051</td>\n",
       "      <td>02-00-00</td>\n",
       "      <td>59 ST</td>\n",
       "      <td>NQR456W</td>\n",
       "      <td>BMT</td>\n",
       "      <td>05/27/2017</td>\n",
       "      <td>08:00:00</td>\n",
       "      <td>REGULAR</td>\n",
       "      <td>6195256</td>\n",
       "      <td>2098347</td>\n",
       "    </tr>\n",
       "    <tr>\n",
       "      <th>3</th>\n",
       "      <td>A002</td>\n",
       "      <td>R051</td>\n",
       "      <td>02-00-00</td>\n",
       "      <td>59 ST</td>\n",
       "      <td>NQR456W</td>\n",
       "      <td>BMT</td>\n",
       "      <td>05/27/2017</td>\n",
       "      <td>12:00:00</td>\n",
       "      <td>REGULAR</td>\n",
       "      <td>6195346</td>\n",
       "      <td>2098432</td>\n",
       "    </tr>\n",
       "    <tr>\n",
       "      <th>4</th>\n",
       "      <td>A002</td>\n",
       "      <td>R051</td>\n",
       "      <td>02-00-00</td>\n",
       "      <td>59 ST</td>\n",
       "      <td>NQR456W</td>\n",
       "      <td>BMT</td>\n",
       "      <td>05/27/2017</td>\n",
       "      <td>16:00:00</td>\n",
       "      <td>REGULAR</td>\n",
       "      <td>6195518</td>\n",
       "      <td>2098491</td>\n",
       "    </tr>\n",
       "  </tbody>\n",
       "</table>\n",
       "</div>"
      ],
      "text/plain": [
       "    C/A  UNIT       SCP STATION  LINENAME  DIVISION       DATEn     TIMEn  \\\n",
       "0  A002  R051  02-00-00   59 ST   NQR456W       BMT  05/27/2017  00:00:00   \n",
       "1  A002  R051  02-00-00   59 ST   NQR456W       BMT  05/27/2017  04:00:00   \n",
       "2  A002  R051  02-00-00   59 ST   NQR456W       BMT  05/27/2017  08:00:00   \n",
       "3  A002  R051  02-00-00   59 ST   NQR456W       BMT  05/27/2017  12:00:00   \n",
       "4  A002  R051  02-00-00   59 ST   NQR456W       BMT  05/27/2017  16:00:00   \n",
       "\n",
       "     DESCn  ENTRIESn   EXITSn  \n",
       "0  REGULAR   6195217  2098317  \n",
       "1  REGULAR   6195240  2098318  \n",
       "2  REGULAR   6195256  2098347  \n",
       "3  REGULAR   6195346  2098432  \n",
       "4  REGULAR   6195518  2098491  "
      ]
     },
     "execution_count": 4,
     "metadata": {},
     "output_type": "execute_result"
    }
   ],
   "source": [
    "import pandas as pd\n",
    "import numpy as np\n",
    "def filter_by_regular(filename):\n",
    "    \n",
    "    turnstile_data = filename[filename['DESCn']=='REGULAR']\n",
    "    \n",
    "    return turnstile_data\n",
    "\n",
    "df=pd.read_csv(\"output.txt\")\n",
    "df=filter_by_regular(df)\n",
    "df.to_csv(\"output.txt\",index=False)\n",
    "df.head()"
   ]
  },
  {
   "cell_type": "markdown",
   "metadata": {},
   "source": [
    "### *Exercise 1.4*\n",
    "\n",
    "\n",
    "The NYC Subway data has cumulative entry and exit data in each line. Let's assume you have a Dataframe called df, which contains only lines for one particular turnstile (unique SCP, C/A, and UNIT). The following function must change these cumulative entries for counting all entries since the last reading (entries from the last line of the Dataframe).\n",
    "\n",
    "More specifically, there are two things you should do:\n",
    "\n",
    "1 - Create a new column, called ENTRIESn_hourly\n",
    "2 - Insert in this column the difference between ENTRIESn in the current and the previous column. If the line has any NAN, fill it out/replace by 1.\n",
    "\n",
    "Tip: The funtions shift() and fillna() in Pandas might be usefull for this exercise.\n",
    "\n",
    "Below you will find and example of how your Dataframe should look by the end of this exercise:\n",
    "\n",
    "        C/A  UNIT       SCP     DATEn     TIMEn    DESCn  ENTRIESn    EXITSn  ENTRIESn_hourly\n",
    "    0     A002  R051  02-00-00  05-01-11  00:00:00  REGULAR   3144312   1088151                1\n",
    "    1     A002  R051  02-00-00  05-01-11  04:00:00  REGULAR   3144335   1088159               23\n",
    "    2     A002  R051  02-00-00  05-01-11  08:00:00  REGULAR   3144353   1088177               18\n",
    "    3     A002  R051  02-00-00  05-01-11  12:00:00  REGULAR   3144424   1088231               71\n",
    "    4     A002  R051  02-00-00  05-01-11  16:00:00  REGULAR   3144594   1088275              170\n",
    "    5     A002  R051  02-00-00  05-01-11  20:00:00  REGULAR   3144808   1088317              214\n",
    "    6     A002  R051  02-00-00  05-02-11  00:00:00  REGULAR   3144895   1088328               87\n",
    "    7     A002  R051  02-00-00  05-02-11  04:00:00  REGULAR   3144905   1088331               10\n",
    "    8     A002  R051  02-00-00  05-02-11  08:00:00  REGULAR   3144941   1088420               36\n",
    "    9     A002  R051  02-00-00  05-02-11  12:00:00  REGULAR   3145094   1088753              153\n",
    "    10    A002  R051  02-00-00  05-02-11  16:00:00  REGULAR   3145337   1088823              243"
   ]
  },
  {
   "cell_type": "code",
   "execution_count": 8,
   "metadata": {
    "collapsed": true
   },
   "outputs": [
    {
     "name": "stdout",
     "output_type": "stream",
     "text": [
      "    C/A       SCP       DATEn     TIMEn    DESCn  ENTRIESn   EXITSn  \\\n",
      "0  A002  02-00-00  05/27/2017  00:00:00  REGULAR   6195217  2098317   \n",
      "1  A002  02-00-00  05/27/2017  04:00:00  REGULAR   6195240  2098318   \n",
      "2  A002  02-00-00  05/27/2017  08:00:00  REGULAR   6195256  2098347   \n",
      "3  A002  02-00-00  05/27/2017  12:00:00  REGULAR   6195346  2098432   \n",
      "4  A002  02-00-00  05/27/2017  16:00:00  REGULAR   6195518  2098491   \n",
      "\n",
      "   ENTRIESn_hourly  \n",
      "0                1  \n",
      "1               23  \n",
      "2               16  \n",
      "3               90  \n",
      "4              172  \n"
     ]
    }
   ],
   "source": [
    "import pandas as pd\n",
    "\n",
    "def get_hourly_entries(df):\n",
    "    df['ENTRIESn_hourly']=(df['ENTRIESn']-df['ENTRIESn'].shift(1)).fillna(1).astype(int)\n",
    "    df['ENTRIESn']=df['ENTRIESn'].fillna(0).apply(int)\n",
    "    df['EXITSn']=df['EXITSn'].fillna(0).apply(int)\n",
    "    return df\n",
    "df=pd.read_csv(\"output.txt\")\n",
    "df=get_hourly_entries(df)\n",
    "df.to_csv(\"output.txt\",index=False)\n",
    "list=[\"C/A\",\"SCP\",\" DATEn\",\"TIMEn\",\"DESCn\",\"ENTRIESn\",\"EXITSn\",\"ENTRIESn_hourly\"]\n",
    "print df[list].head()"
   ]
  },
  {
   "cell_type": "markdown",
   "metadata": {},
   "source": [
    "### *Exercise 1.5*\n",
    "\n",
    "Do the same thing you did in the previous exercise, but taking into account the exits, column EXITSn.\n",
    "For this, you need to create a column called EXITSn_hourly and insert the difference between the column EXITSn in the current line vs he previous line. If there is any NaN, fill it out/replace by 0.\n",
    "\n"
   ]
  },
  {
   "cell_type": "code",
   "execution_count": 9,
   "metadata": {
    "collapsed": true
   },
   "outputs": [
    {
     "name": "stdout",
     "output_type": "stream",
     "text": [
      "    C/A  UNIT       SCP       DATEn     TIMEn    DESCn  ENTRIESn   EXITSn  \\\n",
      "0  A002  R051  02-00-00  05/27/2017  00:00:00  REGULAR   6195217  2098317   \n",
      "1  A002  R051  02-00-00  05/27/2017  04:00:00  REGULAR   6195240  2098318   \n",
      "2  A002  R051  02-00-00  05/27/2017  08:00:00  REGULAR   6195256  2098347   \n",
      "3  A002  R051  02-00-00  05/27/2017  12:00:00  REGULAR   6195346  2098432   \n",
      "4  A002  R051  02-00-00  05/27/2017  16:00:00  REGULAR   6195518  2098491   \n",
      "\n",
      "   EXITSn_hourly  \n",
      "0              0  \n",
      "1              1  \n",
      "2             29  \n",
      "3             85  \n",
      "4             59  \n"
     ]
    }
   ],
   "source": [
    "import pandas as pd\n",
    "\n",
    "def get_hourly_entries(df):\n",
    "    df['EXITSn_hourly']=(df['EXITSn']-df['EXITSn'].shift(1)).fillna(0).apply(int)\n",
    "    return df\n",
    "df=pd.read_csv(\"output.txt\")\n",
    "df=get_hourly_entries(df)\n",
    "list=[\"C/A\",\"UNIT\",\"SCP\",\" DATEn\",\"TIMEn\",\"DESCn\",\"ENTRIESn\",\"EXITSn\",\"EXITSn_hourly\"]\n",
    "df.to_csv(\"output.txt\",index=False)\n",
    "print df[list].head()"
   ]
  },
  {
   "cell_type": "markdown",
   "metadata": {},
   "source": [
    "### *Exercise 1.6*\n",
    "\n",
    "Given an entry variable that represents time, in the format:\n",
    "     \"00:00:00\" (hour: minutes: seconds)\n",
    "    \n",
    "Write a function to extract the hour part from the time in the entry variable\n",
    "And return it as an integer. For example:\n",
    "         \n",
    "         1) if hour is 00, your code must return 0\n",
    "         2) if hour is 01, your code must return 1\n",
    "         3) if hour is 21, your code must return 21\n",
    "        \n",
    "Please return te hour as an integer.\n"
   ]
  },
  {
   "cell_type": "code",
   "execution_count": 8,
   "metadata": {
    "collapsed": true
   },
   "outputs": [
    {
     "name": "stdout",
     "output_type": "stream",
     "text": [
      "0     0\n",
      "1     4\n",
      "2     8\n",
      "3    12\n",
      "4    16\n",
      "Name: TIMEn, dtype: object\n"
     ]
    }
   ],
   "source": [
    "import pandas as pd\n",
    "def time_to_hour(time):\n",
    "    time=str(time)\n",
    "    l=time.split(':')[0]\n",
    "    if l==\"00\":\n",
    "        return 0\n",
    "    else:\n",
    "        l=l.lstrip('0')\n",
    "        return l\n",
    "def int1(time):\n",
    "    p=time.split('.')\n",
    "    if p[0]==\"\":\n",
    "        return p[1]\n",
    "    else:\n",
    "        return p[0]\n",
    "def convert(data):\n",
    "    data['TIMEn']=data['TIMEn'].apply(time_to_hour)\n",
    "    data['TIMEn']=data['TIMEn'].fillna(0).apply(int1)\n",
    "    return data\n",
    "df=pd.read_csv(\"output.txt\")\n",
    "df=convert(df)\n",
    "df.to_csv(\"output.txt\",index=False)\n",
    "print df['TIMEn'].head()"
   ]
  },
  {
   "cell_type": "markdown",
   "metadata": {},
   "source": [
    "## Exercise 2 - Data Analysis\n",
    "\n",
    "### *Exercise 2.1*\n",
    "\n",
    "To understand the relationship between the Subway activity and the weather, please complete the data from the file already downloaded with the weather data.\n",
    "We provided you with the file containing NYC weather data and made it available with the Support Material. You can access it through the link: https://s3.amazonaws.com/content.udacity-data.com/courses/ud359/turnstile_data_master_with_weather.csv\n",
    "\n",
    "Now that we have our data in a csv file, write Python code that reads this file and saves it into a Pandas Dataframe. \n",
    "\n",
    "Tip: \n",
    "\n",
    "Use the command below to read the file:\n",
    "\n",
    "```python\n",
    "pd.read_csv('output_list.txt', sep=\",\")\n",
    "```\n",
    "\n"
   ]
  },
  {
   "cell_type": "code",
   "execution_count": 37,
   "metadata": {
    "collapsed": true
   },
   "outputs": [
    {
     "name": "stdout",
     "output_type": "stream",
     "text": [
      "   Unnamed: 0  UNIT       DATEn     TIMEn  Hour    DESCn  ENTRIESn_hourly  \\\n",
      "0           0  R001  2011-05-01  01:00:00     1  REGULAR              0.0   \n",
      "1           1  R001  2011-05-01  05:00:00     5  REGULAR            217.0   \n",
      "2           2  R001  2011-05-01  09:00:00     9  REGULAR            890.0   \n",
      "3           3  R001  2011-05-01  13:00:00    13  REGULAR           2451.0   \n",
      "4           4  R001  2011-05-01  17:00:00    17  REGULAR           4400.0   \n",
      "\n",
      "   EXITSn_hourly  maxpressurei  maxdewpti   ...     meandewpti  meanpressurei  \\\n",
      "0            0.0         30.31       42.0   ...           39.0          30.27   \n",
      "1          553.0         30.31       42.0   ...           39.0          30.27   \n",
      "2         1262.0         30.31       42.0   ...           39.0          30.27   \n",
      "3         3708.0         30.31       42.0   ...           39.0          30.27   \n",
      "4         2501.0         30.31       42.0   ...           39.0          30.27   \n",
      "\n",
      "   fog  rain  meanwindspdi  mintempi  meantempi  maxtempi  precipi  thunder  \n",
      "0  0.0   0.0           5.0      50.0       60.0      69.0      0.0      0.0  \n",
      "1  0.0   0.0           5.0      50.0       60.0      69.0      0.0      0.0  \n",
      "2  0.0   0.0           5.0      50.0       60.0      69.0      0.0      0.0  \n",
      "3  0.0   0.0           5.0      50.0       60.0      69.0      0.0      0.0  \n",
      "4  0.0   0.0           5.0      50.0       60.0      69.0      0.0      0.0  \n",
      "\n",
      "[5 rows x 22 columns]\n"
     ]
    }
   ],
   "source": [
    "import pandas as pd\n",
    "\n",
    "filename = \"turnstile.csv\"\n",
    "df=pd.read_csv(filename)\n",
    "print df.head()"
   ]
  },
  {
   "cell_type": "markdown",
   "metadata": {},
   "source": [
    "### *Exercise 2.2*\n",
    "\n",
    "Now, create a function that calculates the number of rainy days. For this, return the count of the number of days where the column *\"rain\"* is equal to 1.\n",
    "\n",
    "Tip: You might think that interpreting numbers as integers or floats might not\n",
    "     work at first. To handle this issue, it might be useful to convert\n",
    "     these numbers into integers. You can do this by writting cast (column as integer).\n",
    "     So, for example, if we want to launch the column maxtempi as an integer, we have to\n",
    "     write something like cast (maxtempi as integer) = 76, instead of just\n",
    "     where maxtempi = 76."
   ]
  },
  {
   "cell_type": "code",
   "execution_count": 2,
   "metadata": {
    "collapsed": true
   },
   "outputs": [
    {
     "name": "stdout",
     "output_type": "stream",
     "text": [
      "44104\n"
     ]
    }
   ],
   "source": [
    "import pandas as pd\n",
    "import numpy as np\n",
    "def num_rainy_days(df):\n",
    "    df['rain']=df['rain'].fillna(0).apply(int)\n",
    "    return df\n",
    "df=pd.read_csv(\"turnstile.csv\")\n",
    "pt=num_rainy_days(df)\n",
    "count=0\n",
    "for i in pt:\n",
    "    if i==\"rain\":\n",
    "        for j in range(len(pt['rain'])):\n",
    "            if np.asscalar(pt['rain'][j])==float(1):\n",
    "                count+=1\n",
    "print count"
   ]
  },
  {
   "cell_type": "markdown",
   "metadata": {},
   "source": [
    "### *Exercise 2.3*\n",
    "\n",
    "Calculate if the day was cloudy or not (0 or 1) and the maximum temperature for fog (i.e. the maximum temperature \n",
    "     for cloudy days)."
   ]
  },
  {
   "cell_type": "code",
   "execution_count": 21,
   "metadata": {
    "collapsed": true
   },
   "outputs": [
    {
     "name": "stdout",
     "output_type": "stream",
     "text": [
      "fog\tmaxtempi\n",
      "0\t86.0\n",
      "1\t81.0\n"
     ]
    }
   ],
   "source": [
    "import pandas as pd\n",
    "import numpy as np\n",
    "def max_temp_aggregate_by_fog(df):\n",
    "    df['fog']=df['fog'].fillna(0).apply(int)\n",
    "    return df\n",
    "df=pd.read_csv(\"turnstile.csv\")\n",
    "pt=max_temp_aggregate_by_fog(df)\n",
    "temp1=0\n",
    "temp2=0\n",
    "for i in pt:\n",
    "    if i==\"fog\":\n",
    "        for j in range(len(pt['fog'])):\n",
    "            if np.asscalar(pt['fog'][j])==float(1):\n",
    "                if pt['maxtempi'][j]>temp1:\n",
    "                    temp1=pt['maxtempi'][j]\n",
    "            else:\n",
    "                if pt['maxtempi'][j]>temp2:\n",
    "                    temp2=pt['maxtempi'][j]\n",
    "print \"{0}\\t{1}\".format(\"fog\",\"maxtempi\")\n",
    "print \"{0}\\t{1}\".format(\"0\",temp2)\n",
    "print \"{0}\\t{1}\".format(\"1\",temp1)\n"
   ]
  },
  {
   "cell_type": "markdown",
   "metadata": {},
   "source": [
    "### *Exercise 2.4\n",
    "\n",
    "Now, calculate the mean for 'meantempi' for the days that are Saturdays or Sundays (weekend):"
   ]
  },
  {
   "cell_type": "code",
   "execution_count": 1,
   "metadata": {
    "collapsed": true
   },
   "outputs": [
    {
     "name": "stdout",
     "output_type": "stream",
     "text": [
      "65.100666854\n"
     ]
    }
   ],
   "source": [
    "import pandas as pd\n",
    "import numpy as np\n",
    "import datetime\n",
    "df=pd.read_csv(\"turnstile.csv\")\n",
    "pt=df\n",
    "count1=0\n",
    "count2=0\n",
    "c=0\n",
    "for i in pt:\n",
    "    if i==\"DATEn\":\n",
    "        for j in range(len(pt['DATEn'])):\n",
    "            c+=1\n",
    "            if datetime.datetime.strptime(pt['DATEn'][j],\"%Y-%m-%d\").strftime('%a') in [\"Sun\",\"Sat\"]:\n",
    "                count1+=pt['meantempi'][j]\n",
    "                count2+=1\n",
    "                #print datetime.datetime.strptime(pt['DATEn'][j],\"%Y-%m-%d\").strftime('%a')\n",
    "\n",
    "print float(count1)/count2"
   ]
  },
  {
   "cell_type": "markdown",
   "metadata": {},
   "source": [
    "### *Exercise 2.5\n",
    "Calculate the mean of the minimum temperature 'mintempi' for the days when the minimum temperature was greater that 55 degrees:"
   ]
  },
  {
   "cell_type": "code",
   "execution_count": 1,
   "metadata": {
    "collapsed": true
   },
   "outputs": [
    {
     "name": "stdout",
     "output_type": "stream",
     "text": [
      "63.2699012987\n"
     ]
    }
   ],
   "source": [
    "import pandas as pd\n",
    "import numpy as np\n",
    "import datetime\n",
    "df=pd.read_csv(\"turnstile.csv\")\n",
    "pt=df\n",
    "count1=0\n",
    "count2=0\n",
    "for i in pt:\n",
    "    if i==\"DATEn\":\n",
    "        for j in range(len(pt['DATEn'])):\n",
    "            if np.asscalar(pt['mintempi'][j])>float(55):\n",
    "                count1+=pt['mintempi'][j]\n",
    "                count2+=1\n",
    "                #print datetime.datetime.strptime(pt['DATEn'][j],\"%Y-%m-%d\").strftime('%a')\n",
    "#print count1,count2\n",
    "print float(count1)/count2"
   ]
  },
  {
   "cell_type": "markdown",
   "metadata": {},
   "source": [
    "### *Exercise 2.6\n",
    "\n",
    "Before you make any analysis, it might be useful to look at the data we want to analyse. More specifically, we will evaluate the entries by hour in our data from the NYC Subway to determine the data distribution. This data is stored in the column ['ENTRIESn_hourly'].\n",
    "    \n",
    "Draw two histogramns in the same axis, to show the entries when it's raining vs when it's not. \n",
    "Below, you will find an example of how to draw histogramns with Pandas and Matplotlib:\n",
    "     \n",
    "```python\n",
    "Turnstile_weather ['column_to_graph']. Hist ()\n",
    "```   \n",
    "    "
   ]
  },
  {
   "cell_type": "code",
   "execution_count": 17,
   "metadata": {
    "collapsed": true
   },
   "outputs": [
    {
     "data": {
      "image/png": "[encoded data removed]",
      "text/plain": [
       "<Figure size 432x288 with 1 Axes>"
      ]
     },
     "metadata": {},
     "output_type": "display_data"
    }
   ],
   "source": [
    "import numpy as np\n",
    "import pandas\n",
    "import matplotlib.pyplot as plt\n",
    "\n",
    "def entries_histogram(df):\n",
    "    plt.figure()\n",
    "    df['ENTRIESn_hourly'][df['rain']==0].hist(color=\"red\",bins=12,range=(100,1000))\n",
    "    df['ENTRIESn_hourly'][df['rain']==1].hist(color=\"blue\",bins=12,range=(100,1000))\n",
    "    plt.xlabel(\"ENTRIESn_hourly\")\n",
    "    plt.ylabel(\"Frequency\")\n",
    "    plt.legend((\"No Rain\",\"Rain\"))\n",
    "    plt.title(\"Histogram as per question\")\n",
    "    return plt\n",
    "df=pd.read_csv(\"turnstile.csv\")\n",
    "plt=entries_histogram(df)\n",
    "plt.show()"
   ]
  },
  {
   "cell_type": "markdown",
   "metadata": {},
   "source": [
    "### *Exercise 2.7\n",
    "\n",
    "The data you just plotted is in what kind of distribution? Is there a difference in distribution between rainy and non-rainy days?"
   ]
  },
  {
   "cell_type": "markdown",
   "metadata": {},
   "source": [
    "This is Right Skewed ditribution. Yes there is clear difference between data of rainy and non-rainy days actually most entries occur in non rainy days."
   ]
  },
  {
   "cell_type": "markdown",
   "metadata": {},
   "source": [
    "### *Exercise 2.8\n",
    "\n",
    "Build a function that returns:\n",
    "\n",
    "1. The mean of entries when it's raining\n",
    "2. The mean of entries when it's not raining\n",
    "\n",
    "\n"
   ]
  },
  {
   "cell_type": "code",
   "execution_count": 20,
   "metadata": {
    "collapsed": true
   },
   "outputs": [
    {
     "name": "stdout",
     "output_type": "stream",
     "text": [
      "1105.44637675 1090.27878015\n"
     ]
    }
   ],
   "source": [
    "import numpy as np\n",
    "\n",
    "import pandas as pd\n",
    "\n",
    "def means(df):\n",
    "    a=df['ENTRIESn_hourly'][df['rain']==0]\n",
    "    b=df['ENTRIESn_hourly'][df['rain']==1]\n",
    "    with_rain_mean=np.mean(b)\n",
    "    without_rain_mean=np.mean(a)\n",
    "    return with_rain_mean, without_rain_mean \n",
    "df=pandas.read_csv(\"turnstile.csv\")\n",
    "a,b=means(df)\n",
    "print a,b"
   ]
  },
  {
   "cell_type": "markdown",
   "metadata": {},
   "source": [
    "Answer to the following questions according to your functions' exits:\n",
    "\n",
    "1. What is the mean of entries when it's raining?\n",
    "2. What is the mean of entries when it's not raining?\n"
   ]
  },
  {
   "cell_type": "markdown",
   "metadata": {},
   "source": [
    "1. Mean entries when it's raining is 1105.45\n",
    "2. Mean entries when it's not raining is 1090.28"
   ]
  },
  {
   "cell_type": "markdown",
   "metadata": {},
   "source": [
    "## Exercise 3 - Map Reduce\n",
    "\n",
    "### *Exercise 3.1*\n",
    "\n",
    "The entry for this exercise is the same file from the previous session (Exercise 2). You can download the file from this link:\n",
    "\n",
    " https://s3.amazonaws.com/content.udacity-data.com/courses/ud359/turnstile_data_master_with_weather.csv\n",
    "\n",
    "Now, we will create a mapper. For each entry line, the mapper exit must PRINT (not return) UNIT as a key, and the number of ENTRIESn_hourly as the value. Separate the key and the value with a tab. For example: 'R002 \\ t105105.0'\n",
    "\n",
    "Export your mapper into a file named mapper_result.txt and send it with your submission. The code for exporting your mapper is already written in the code bellow.\n",
    "\n",
    "\n"
   ]
  },
  {
   "cell_type": "code",
   "execution_count": 22,
   "metadata": {
    "collapsed": true
   },
   "outputs": [],
   "source": [
    "import sys\n",
    "import csv\n",
    "def mapper():\n",
    "    c=0\n",
    "    reader=csv.reader(sys.stdin,delimiter=\",\")\n",
    "    writer=csv.writer(sys.stdout,delimiter=\"\\t\")\n",
    "    \n",
    "    for line in reader:\n",
    "        if c==0:\n",
    "            c+=1\n",
    "        else:\n",
    "            a=line[1]\n",
    "            b=line[6]\n",
    "            writer.writerow([a,b])\n",
    "\n",
    "\n",
    "sys.stdin = open('turnstile.csv')\n",
    "sys.stdout = open('mapper_result.txt', 'w')\n",
    "mapper()"
   ]
  },
  {
   "cell_type": "markdown",
   "metadata": {},
   "source": [
    "### *Exercise 3.2*\n",
    "\n",
    "Now, create the reducer. Given the mapper result from the previous exercise, the reducer must print (not return) one line per UNIT, with the total number of ENTRIESn_hourly during May (which is our data duration), separated by a tab. An example of exit line from the reducer may look like this: 'R001 \\ t500625.0'\n",
    "\n",
    "You can assume that the entry for the reducer is ordered in a way that all lines corresponding to a particular unit are grouped. However, the reducer exit will have repetition, as there are stores that appear in different files' locations.\n",
    "\n",
    "Export your reducer into a file named reducer_result.txt and send it with your submission."
   ]
  },
  {
   "cell_type": "code",
   "execution_count": 33,
   "metadata": {
    "collapsed": true
   },
   "outputs": [],
   "source": [
    "import sys\n",
    "import csv\n",
    "\n",
    "\n",
    "def reducer():\n",
    "    oldkey=None\n",
    "    sum=0.0\n",
    "    for line in sys.stdin:\n",
    "        data=line.strip().split('\\t')\n",
    "        if len(data)==2:\n",
    "            newkey,value=data\n",
    "            if newkey!=oldkey:\n",
    "                if oldkey:\n",
    "                    print \"{0}\\t{1}\".format(oldkey,sum)\n",
    "                oldkey=newkey\n",
    "                sum=float(value)\n",
    "            else:\n",
    "                sum+=float(value)\n",
    "    if oldkey:\n",
    "        print \"{0}\\t{1}\".format(oldkey,sum)\n",
    "\n",
    "sys.stdin=open(\"mapper_result.txt\")\n",
    "sys.stdout=open(\"reducer_result.txt\",\"w\")\n",
    "reducer()"
   ]
  },
  {
   "cell_type": "code",
   "execution_count": null,
   "metadata": {},
   "outputs": [],
   "source": []
  }
 ],
 "metadata": {
  "celltoolbar": "Edit Metadata",
  "kernelspec": {
   "display_name": "Python 2",
   "language": "python",
   "name": "python2"
  },
  "language_info": {
   "codemirror_mode": {
    "name": "ipython",
    "version": 2
   },
   "file_extension": ".py",
   "mimetype": "text/x-python",
   "name": "python",
   "nbconvert_exporter": "python",
   "pygments_lexer": "ipython2",
   "version": "2.7.15"
  }
 },
 "nbformat": 4,
 "nbformat_minor": 2
}
